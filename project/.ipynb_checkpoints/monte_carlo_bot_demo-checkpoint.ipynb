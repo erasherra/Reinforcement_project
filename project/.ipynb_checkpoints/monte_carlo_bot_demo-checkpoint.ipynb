{
 "cells": [
  {
   "cell_type": "markdown",
   "metadata": {},
   "source": [
    "# Monte Carlo Bot"
   ]
  },
  {
   "cell_type": "markdown",
   "metadata": {},
   "source": [
    "<h3>In this project I have created Monte Carlo method where a bot tries to find the \"goal\" which is a given as a xpath. Bot randomly clicks elements and evaluates the websites model. </h3>\n",
    "<br>\n",
    "<p>Before you can create bot you have to download selenium library for python. Library contains necessary tools for creating bots. You will also need to download a driver (in this case Firfox driver a.k.a. geckodriver) so that the selenium will be able to communicate with firefox.</p>\n",
    "\n",
    "<a href=\"https://selenium-python.readthedocs.io/installation.html#introduction\">link to more introduction</a>"
   ]
  },
  {
   "cell_type": "markdown",
   "metadata": {},
   "source": [
    "<h2>First things first... importing</h2>\n",
    "<p>We will import all necessary librarys</p>"
   ]
  },
  {
   "cell_type": "code",
   "execution_count": 1,
   "metadata": {},
   "outputs": [],
   "source": [
    "import numpy as np\n",
    "from selenium import webdriver\n",
    "from selenium.webdriver.common.keys import Keys"
   ]
  },
  {
   "cell_type": "code",
   "execution_count": 2,
   "metadata": {},
   "outputs": [],
   "source": [
    "import hashlib\n",
    "import random"
   ]
  },
  {
   "cell_type": "markdown",
   "metadata": {},
   "source": [
    "<h2>In this part we have all the utility functions:</h2>"
   ]
  },
  {
   "cell_type": "code",
   "execution_count": 145,
   "metadata": {},
   "outputs": [],
   "source": [
    "#Here we have function which md5 hashes input. This is used to create unique identifiers for identify and create models.\n",
    "def mdFiveIt(string):\n",
    "    \n",
    "    str = string\n",
    "    result = hashlib.md5(str.encode()) \n",
    "    \n",
    "    return result.hexdigest()"
   ]
  },
  {
   "cell_type": "code",
   "execution_count": 146,
   "metadata": {},
   "outputs": [],
   "source": [
    "#This is just basic printer function for printing web elements text\n",
    "def printelement(elem):\n",
    "    element_text = elem.text\n",
    "\n",
    "    print('element.text: {0}'.format(element_text))\n",
    "\n"
   ]
  },
  {
   "cell_type": "markdown",
   "metadata": {},
   "source": [
    "<h2>In this part we have all the utility classes:</h2>"
   ]
  },
  {
   "cell_type": "code",
   "execution_count": 147,
   "metadata": {},
   "outputs": [],
   "source": [
    "#this class is used only in simpleScan\n",
    "class ElementHolder(object):\n",
    "    def __init__(self, name, element):\n",
    "        self.name = name\n",
    "        self.element = element"
   ]
  },
  {
   "cell_type": "code",
   "execution_count": 150,
   "metadata": {},
   "outputs": [],
   "source": [
    "#hashState keeps info about every states hash value and state number.\n",
    "#State number is a number which indicates which \"button\" or \"link\" is this and hash value which model is this (web page).\n",
    "class hashState(object):\n",
    "    def __init__(self, hash_value, state_num):\n",
    "        self.hash_value = hash_value\n",
    "        self.state_num = state_num\n",
    "        "
   ]
  },
  {
   "cell_type": "code",
   "execution_count": 149,
   "metadata": {},
   "outputs": [],
   "source": [
    "#agent keeps history about the state routes and its position.\n",
    "class Agent(object):\n",
    "    steps = 0\n",
    "    def __init__(self, startPos,):\n",
    "        self.startPos = startPos\n",
    "        self.pos = startPos\n",
    "        self.history = []"
   ]
  },
  {
   "cell_type": "code",
   "execution_count": 148,
   "metadata": {},
   "outputs": [],
   "source": [
    "#State mostly only keeps track about the state value which changes in learning process\n",
    "class State(object):\n",
    "    def __init__(self, num, element):\n",
    "        self.num = num\n",
    "        self.element = element\n",
    "        self.stateValue = -1"
   ]
  },
  {
   "cell_type": "code",
   "execution_count": 151,
   "metadata": {},
   "outputs": [],
   "source": [
    "#Model is the whole explored environment (whole website). Keeps track about the states and environment so basically in this case\n",
    "#it keeps track about visited url and the clickable buttons what the url contains.\n",
    "class Model(object):\n",
    "    def __init__(self, mdhash, url, states):\n",
    "        self.mdhash = mdhash\n",
    "        self.url = url\n",
    "        self.states = states"
   ]
  },
  {
   "cell_type": "code",
   "execution_count": 10,
   "metadata": {},
   "outputs": [],
   "source": [
    "\n",
    "class Models(object):\n",
    "    def __init__(self, models):\n",
    "        self.mdhash = models\n",
    "        "
   ]
  },
  {
   "cell_type": "markdown",
   "metadata": {},
   "source": [
    "<h2>Utility Functions:</h2>"
   ]
  },
  {
   "cell_type": "code",
   "execution_count": 152,
   "metadata": {},
   "outputs": [],
   "source": [
    "#This function checks if the web page contains the xpath\n",
    "from selenium.common.exceptions import NoSuchElementException        \n",
    "def check_exists_by_xpath(driver,xpath):\n",
    "    try:\n",
    "        driver.find_element_by_xpath(xpath)\n",
    "    except NoSuchElementException:\n",
    "        return False\n",
    "    return True"
   ]
  },
  {
   "cell_type": "code",
   "execution_count": 153,
   "metadata": {},
   "outputs": [],
   "source": [
    "#prints all the elements\n",
    "def scrollAllElements(elements):\n",
    "    for element in elements:\n",
    "        printelement(element)"
   ]
  },
  {
   "cell_type": "code",
   "execution_count": 14,
   "metadata": {},
   "outputs": [],
   "source": [
    "#In this function we check if the model e.g. hashed url is already explored or not.\n",
    "def isThisNewModel(models, md5):\n",
    "    for model in models:\n",
    "        if(model.mdhash == md5):\n",
    "            return False\n",
    "    return True                   "
   ]
  },
  {
   "cell_type": "code",
   "execution_count": 15,
   "metadata": {},
   "outputs": [],
   "source": [
    "#Here we create list of state objectives\n",
    "def generateStates(elements):\n",
    "    states = []\n",
    "    count = 0\n",
    "    for element in elements:\n",
    "        states.append(State(count, element))\n",
    "        count += 1\n",
    "    return states"
   ]
  },
  {
   "cell_type": "code",
   "execution_count": 155,
   "metadata": {},
   "outputs": [],
   "source": [
    "#Because we are dealing with Monte Carlo we make randome actions (randomly click links and buttons)\n",
    "def randomListClick(driver,elements,dontVisit,url):\n",
    "    \n",
    "    \n",
    "    if(len(elements) > 0):\n",
    "        random_num = random.randint(0,len(elements)-1)\n",
    "        element=elements[random_num]\n",
    "        for t in dontVisit:\n",
    "            if(element.text == t):\n",
    "                return random_num\n",
    "        #print(\"clicked: \",element.text)    \n",
    "        element.click()\n",
    "        return random_num\n",
    "    driver.get(url)\n",
    "    return -1"
   ]
  },
  {
   "cell_type": "code",
   "execution_count": 154,
   "metadata": {},
   "outputs": [],
   "source": [
    "#This method prints the model so that it is easier to follow how well has the model learned.\n",
    "def printModel(m):\n",
    "    print()\n",
    "    print(\"Explored Model(s):\")\n",
    "    for model in m:\n",
    "        print()\n",
    "        print(model.url[-14:],\" \",model.mdhash,\": \", end=\"\")\n",
    "        #print(model.mdhash,\": \", end=\"\")\n",
    "        for s in model.states:\n",
    "            with np.printoptions(precision=2):\n",
    "                print(s.num,\"(\",\"%.2f\" % round(s.stateValue,5),\") \", end=\"\")\n",
    "                #print(s.num,\"(\",s.stateValue,\") \", end=\"\")"
   ]
  },
  {
   "cell_type": "code",
   "execution_count": 143,
   "metadata": {},
   "outputs": [],
   "source": [
    "#This function will act as greedy about the state values when navigating in the web page.\n",
    "def greedyNavigationToGoal(models,start_url,goal,dontVisit,tag):\n",
    "    driver = webdriver.Firefox()\n",
    "    driver.get(url)\n",
    "    cs = -800000\n",
    "    click_s= -1\n",
    "    while(True):\n",
    "        \n",
    "        if(check_exists_by_xpath(driver,goal)):\n",
    "               \n",
    "            break\n",
    "        else:\n",
    "            elements = driver.find_elements_by_tag_name(tag)\n",
    "            if(len(elements)>0):\n",
    "                \n",
    "                md5 = mdFiveIt(driver.current_url)\n",
    "                for m in models:\n",
    "                    if(m.mdhash == md5):\n",
    "                        \n",
    "                        \n",
    "                        \n",
    "                        for s in m.states:\n",
    "                            if(s.stateValue > cs):\n",
    "                                click_s = s.num\n",
    "                                print(click_s,\" \",s.stateValue)\n",
    "                                cs = s.stateValue\n",
    "                        print(\"clicked(\",click_s,\"): \",elements[click_s].text)        \n",
    "                        elements[click_s].click()\n",
    "                        break;\n",
    "            else:            \n",
    "                driver.get(url)            \n",
    "    print()\n",
    "    "
   ]
  },
  {
   "cell_type": "markdown",
   "metadata": {},
   "source": [
    "<h2>Monte Carlo function it self</h2>"
   ]
  },
  {
   "cell_type": "code",
   "execution_count": 156,
   "metadata": {},
   "outputs": [],
   "source": [
    "#Here we have the Monte Carlo function which generates optimal model for reaching the \"goal\".\n",
    "#We give parameters max iterations, url, goal xpath, dont visit list and elements like button or links (\"a\").\n",
    "#\n",
    "def MC_demo(max_iteration,url,goalXpath,dontVisit,element_tag=\"button\"):\n",
    "    #Model is the list where we will create/save our explored website\n",
    "    model = []\n",
    "    lenght = []\n",
    "    \n",
    "    #Here we create the selenium webdriver which will execute commands through firefox\n",
    "    driver = webdriver.Firefox()\n",
    "    driver.get(url)\n",
    "    \n",
    "    #Model becomes more accurate the more iterations have been done \n",
    "    for i in range(1,max_iteration):\n",
    "        #we start from given url\n",
    "        driver.get(url)\n",
    "        \n",
    "        #We create agent which will explore the environment\n",
    "        agent = Agent(mdFiveIt(driver.current_url))\n",
    "        while(True):\n",
    "            #This loop will break only when the goal xpath has been found\n",
    "            if(check_exists_by_xpath(driver,goalXpath)):\n",
    "                break\n",
    "            else:\n",
    "                #we will find all the given elements like \"button\", \"a\", etc.\n",
    "                elements = driver.find_elements_by_tag_name(element_tag)\n",
    "                \n",
    "                #We will create md5 hash which will indicate that this page is unique\n",
    "                #This could be something else hashed than url (could be source code also)\n",
    "                md5 = mdFiveIt(driver.current_url)\n",
    "                if(isThisNewModel(model,md5)):\n",
    "                    model.append(Model(md5,driver.current_url,generateStates(elements)))\n",
    "                    \n",
    "                #Makes randome action.\n",
    "                #dontVisit means that we dont want this bot accidentally click link to some unwanted site like facebook\n",
    "                selectedState = randomListClick(driver,elements,dontVisit,url)\n",
    "                if(selectedState != -1):\n",
    "                    #Saves the randome action to history\n",
    "                    agent.history.append(hashState(md5,selectedState))\n",
    "                    \n",
    "        steps =1\n",
    "        agent.history.reverse()\n",
    "        #Now we loop back the route and evaluate the states.\n",
    "        for visitedValues in agent.history:\n",
    "            \n",
    "            for m in model:\n",
    "                \n",
    "                if(m.mdhash == visitedValues.hash_value):\n",
    "                    mean =  m.states[visitedValues.state_num].stateValue - steps\n",
    "                    m.states[visitedValues.state_num].stateValue = mean\n",
    "                    \n",
    "                    steps +=1\n",
    "    #Close driver        \n",
    "    driver.close()\n",
    "    return model"
   ]
  },
  {
   "cell_type": "markdown",
   "metadata": {},
   "source": [
    "<h2>Executable: </h2>"
   ]
  },
  {
   "cell_type": "markdown",
   "metadata": {},
   "source": [
    "<p>In this part we will find out the optimal way to web page which contains \"goaaaaaaaalllll\". I have created a simple html test website named \"html_testsite\" for practice purposes. If you are going to test this please set your correct url path.</p>                                                  "
   ]
  },
  {
   "cell_type": "code",
   "execution_count": 105,
   "metadata": {
    "scrolled": true
   },
   "outputs": [
    {
     "name": "stdout",
     "output_type": "stream",
     "text": [
      "\n",
      "Explored Model(s):\n",
      "\n",
      "est/test1.html   31850a33946530218c6279bef9289659 : 0 ( -2495.00 ) 1 ( -2248.00 ) 2 ( -2021.00 ) 3 ( -1604.00 ) 4 ( -1910.00 ) \n",
      "t/test1_1.html   ae8d91adf8b242ed6753171ff5c1ad20 : \n",
      "t/test1_2.html   bf82be9b9d180fab6d0fbe71f15d28dc : 0 ( -1043.00 ) 1 ( -1135.00 ) \n",
      "2/test2_2.html   da6d3a6262808401bfe8f395cf7faedc : \n",
      "t/test1_3.html   d01ebdc97d7db4a8f0c2a5e1db0b46f8 : 0 ( -1967.00 ) \n",
      "3/test3_1.html   9828e603109132fe3bbf1712a9543b72 : \n",
      "t/test1_5.html   7c2d0fab27a9f96c127ebed601db118b : 0 ( -1066.00 ) 1 ( -781.00 ) \n",
      "5/test5_2.html   da609a5704a92b29c562c84913a34f41 : 0 ( -748.00 ) \n",
      "test5_2_1.html   f0ccf235f209441439c6060e0e5d52ca : \n",
      "t/test1_4.html   f807402dbb2954dc797b87f5e424314f : 0 ( -691.00 ) 1 ( -802.00 ) 2 ( -39.00 ) \n",
      "4/test4_3.html   0fe5fa4091b6f873cccd111ec5f2bc96 : 0 ( -20.00 ) \n",
      "4/test4_1.html   ad6c632e29244000fc824b0c09347a94 : \n",
      "5/test5_1.html   bccf3325cc2d4c17f65bbd285baf77e2 : \n",
      "2/test2_1.html   328b48270b7f32097f7d0e74935976fa : \n",
      "4/test4_2.html   0b67165960396039c78479bbbd614cd7 : "
     ]
    }
   ],
   "source": [
    "url = \"file:///C:/Your/Url/Here/Reinforcement_project/project/html_testsite/test/test1.html\"\n",
    "goal = \"//*[contains(text(),'goaaaaaaaalllll')]\"\n",
    "model = MC_demo(20,url,goal,dontVisit,\"a\")\n",
    "printModel(model)\n"
   ]
  },
  {
   "cell_type": "markdown",
   "metadata": {},
   "source": [
    "<p>As you can see above the first column shows our simple websites urls last 14 characters. Next one shows all the unique models in hash format (in this case they are hashed urls but they could be source code or tittles). Last column contains all the buttons in that specific page 0,1..n and in brackets (-2495.00),(-2248.00)... we have the state value. </p>"
   ]
  },
  {
   "cell_type": "code",
   "execution_count": 157,
   "metadata": {},
   "outputs": [
    {
     "name": "stdout",
     "output_type": "stream",
     "text": [
      "0   -2495\n",
      "1   -2248\n",
      "2   -2021\n",
      "3   -1604\n",
      "clicked( 3 ):  Visit our HTML 4_4\n",
      "0   -691\n",
      "2   -39\n",
      "clicked( 2 ):  Visit our HTML 4_3\n",
      "0   -20\n",
      "clicked( 0 ):  Visit our HTML 431\n",
      "\n"
     ]
    }
   ],
   "source": [
    "\n",
    "greedyNavigationToGoal(model,url,goal,dontVisit,tag=\"a\")"
   ]
  },
  {
   "cell_type": "markdown",
   "metadata": {},
   "source": [
    "<p>greedyNavigationToGoal function above will act as greedy about the models state values when navigating in the web page. Will take you to your \"goal\" xpath</p>"
   ]
  },
  {
   "cell_type": "markdown",
   "metadata": {},
   "source": [
    "<h2>Other...</h2>"
   ]
  },
  {
   "cell_type": "markdown",
   "metadata": {},
   "source": [
    "<p>This function simpleScan will just print all the informatin about the target page. Used when developing this project.</p>"
   ]
  },
  {
   "cell_type": "code",
   "execution_count": 5,
   "metadata": {},
   "outputs": [
    {
     "name": "stdout",
     "output_type": "stream",
     "text": [
      "MD5 encrypted source page:  d894a8fbac67a608740cbe88ef14922a\n",
      "\n",
      "MD5 encrypted url:  74fe24c4ee286cc6b74e7f9fbf775e1c\n",
      "\n",
      "URL:  file:///C:/Users/IAmir%20Ingher/Documents/projekti/school/ai/reinf_ai/project/html_generator/test/test1.html\n",
      "\n",
      "button : \n",
      "\n",
      "a : \n",
      "element.text: Visit our HTML 1_1\n",
      "element.text: Visit our HTML 2_2\n",
      "element.text: Visit our HTML 3_3\n",
      "element.text: Visit our HTML 4_4\n",
      "element.text: Visit our HTML 5_5\n",
      "\n"
     ]
    }
   ],
   "source": [
    "#This Function just prints website url, encrypted url, pages elements, encrypted source page.\n",
    "def simpleScan(title,url,elementsToScan = [\"button\",\"a\"]):\n",
    "    driver = webdriver.Firefox()\n",
    "    driver.get(url)\n",
    "    html = driver.page_source\n",
    "    print(\"MD5 encrypted source page: \",mdFiveIt(html))\n",
    "    print()\n",
    "    print(\"MD5 encrypted url: \",mdFiveIt(driver.current_url))\n",
    "    print()\n",
    "    print(\"URL: \",driver.current_url)\n",
    "    print()\n",
    "    elements = []\n",
    "    \n",
    "    for name in elementsToScan:\n",
    "        element = driver.find_elements_by_tag_name(name)\n",
    "        elements.append(ElementHolder(name,element))\n",
    "        \n",
    "    for i in elements:\n",
    "        print(i.name,\": \")\n",
    "        for j in i.element:\n",
    "            printelement(j)\n",
    "        print()    \n",
    "    \n",
    "    assert \"No results found.\" not in driver.page_source\n",
    "    driver.close()\n",
    "simpleScan(\"asd\",\"file:///C:/Your/Url/Here\",)    "
   ]
  },
  {
   "cell_type": "markdown",
   "metadata": {},
   "source": [
    "<h2>Conclusion</h2>\n",
    "<p>I have created a simple Monte Carlo method to learn the closest path to some goal (xpath) and also to navigate to goal by acting greedy based on the models state values "
   ]
  }
 ],
 "metadata": {
  "kernelspec": {
   "display_name": "Python 3",
   "language": "python",
   "name": "python3"
  },
  "language_info": {
   "codemirror_mode": {
    "name": "ipython",
    "version": 3
   },
   "file_extension": ".py",
   "mimetype": "text/x-python",
   "name": "python",
   "nbconvert_exporter": "python",
   "pygments_lexer": "ipython3",
   "version": "3.6.7"
  }
 },
 "nbformat": 4,
 "nbformat_minor": 2
}
