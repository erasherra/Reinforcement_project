{
 "cells": [
  {
   "cell_type": "code",
   "execution_count": 1,
   "metadata": {},
   "outputs": [],
   "source": [
    "import numpy as np\n",
    "from selenium import webdriver\n",
    "from selenium.webdriver.common.keys import Keys"
   ]
  },
  {
   "cell_type": "code",
   "execution_count": 2,
   "metadata": {},
   "outputs": [],
   "source": [
    "import hashlib\n",
    "import random"
   ]
  },
  {
   "cell_type": "code",
   "execution_count": 3,
   "metadata": {},
   "outputs": [],
   "source": [
    "def mdFiveIt(string):\n",
    "    \n",
    "    str = string\n",
    "    result = hashlib.md5(str.encode()) \n",
    "    #print(\"The hexadecimal equivalent of hash is : \", end =\"\") \n",
    "    #print(result.hexdigest()) \n",
    "    \n",
    "    return result.hexdigest()"
   ]
  },
  {
   "cell_type": "code",
   "execution_count": 4,
   "metadata": {},
   "outputs": [],
   "source": [
    "def printelement(elem):\n",
    "    element_text = elem.text\n",
    "    element_attribute_value = elem.get_attribute('value')\n",
    "\n",
    "    #print(elem)\n",
    "    print('element.text: {0}'.format(element_text))\n",
    "    #print('element.get_attribute(\\'value\\'): {0}'.format(element_attribute_value))\n"
   ]
  },
  {
   "cell_type": "code",
   "execution_count": 5,
   "metadata": {},
   "outputs": [
    {
     "name": "stdout",
     "output_type": "stream",
     "text": [
      "MD5 encrypted source page:  d894a8fbac67a608740cbe88ef14922a\n",
      "\n",
      "MD5 encrypted url:  74fe24c4ee286cc6b74e7f9fbf775e1c\n",
      "\n",
      "URL:  file:///C:/Users/IAmir%20Ingher/Documents/projekti/school/ai/reinf_ai/project/html_generator/test/test1.html\n",
      "\n",
      "button : \n",
      "\n",
      "a : \n",
      "element.text: Visit our HTML 1_1\n",
      "element.text: Visit our HTML 2_2\n",
      "element.text: Visit our HTML 3_3\n",
      "element.text: Visit our HTML 4_4\n",
      "element.text: Visit our HTML 5_5\n",
      "\n"
     ]
    }
   ],
   "source": [
    "class ElementHolder(object):\n",
    "    def __init__(self, name, element):\n",
    "        self.name = name\n",
    "        self.element = element\n",
    "def simpleScan(title,url,elementsToScan = [\"button\",\"a\"]):\n",
    "    driver = webdriver.Firefox()\n",
    "    driver.get(url)\n",
    "    #assert \"BIG small Games\" in driver.title\n",
    "    html = driver.page_source\n",
    "    print(\"MD5 encrypted source page: \",mdFiveIt(html))\n",
    "    print()\n",
    "    print(\"MD5 encrypted url: \",mdFiveIt(driver.current_url))\n",
    "    print()\n",
    "    print(\"URL: \",driver.current_url)\n",
    "    print()\n",
    "    elements = []\n",
    "    \n",
    "    for name in elementsToScan:\n",
    "        element = driver.find_elements_by_tag_name(name)\n",
    "        elements.append(ElementHolder(name,element))\n",
    "        \n",
    "    for i in elements:\n",
    "        print(i.name,\": \")\n",
    "        for j in i.element:\n",
    "            printelement(j)\n",
    "        print()    \n",
    "    \n",
    "    assert \"No results found.\" not in driver.page_source\n",
    "    driver.close()\n",
    "simpleScan(\"BIG small Games\",\"file:///C:/Users/IAmir%20Ingher/Documents/projekti/school/ai/reinf_ai/project/html_generator/test/test1.html\",)    "
   ]
  },
  {
   "cell_type": "code",
   "execution_count": 6,
   "metadata": {},
   "outputs": [],
   "source": [
    "class hashState(object):\n",
    "    def __init__(self, hash_value, state_num):\n",
    "        self.hash_value = hash_value\n",
    "        self.state_num = state_num\n",
    "        "
   ]
  },
  {
   "cell_type": "code",
   "execution_count": 7,
   "metadata": {},
   "outputs": [],
   "source": [
    "class Agent(object):\n",
    "    steps = 0\n",
    "    def __init__(self, startPos,):\n",
    "        self.startPos = startPos\n",
    "        self.pos = startPos\n",
    "        self.history = []"
   ]
  },
  {
   "cell_type": "code",
   "execution_count": 8,
   "metadata": {},
   "outputs": [],
   "source": [
    "class State(object):\n",
    "    def __init__(self, num, element):\n",
    "        self.num = num\n",
    "        self.element = element\n",
    "        self.stateValue = -1"
   ]
  },
  {
   "cell_type": "code",
   "execution_count": 9,
   "metadata": {},
   "outputs": [],
   "source": [
    "class Model(object):\n",
    "    def __init__(self, mdhash, url, states):\n",
    "        self.mdhash = mdhash\n",
    "        self.url = url\n",
    "        self.states = states"
   ]
  },
  {
   "cell_type": "code",
   "execution_count": 10,
   "metadata": {},
   "outputs": [],
   "source": [
    "class Models(object):\n",
    "    def __init__(self, models):\n",
    "        self.mdhash = models\n",
    "        "
   ]
  },
  {
   "cell_type": "code",
   "execution_count": 11,
   "metadata": {},
   "outputs": [],
   "source": [
    "from selenium.common.exceptions import NoSuchElementException        \n",
    "def check_exists_by_xpath(driver,xpath):\n",
    "    try:\n",
    "        driver.find_element_by_xpath(xpath)\n",
    "    except NoSuchElementException:\n",
    "        return False\n",
    "    return True"
   ]
  },
  {
   "cell_type": "code",
   "execution_count": 12,
   "metadata": {},
   "outputs": [],
   "source": [
    "def scrollAllElements(elements):\n",
    "    for element in elements:\n",
    "        printelement(element)"
   ]
  },
  {
   "cell_type": "code",
   "execution_count": 13,
   "metadata": {},
   "outputs": [],
   "source": [
    "def randomListClick(driver,elements,dontVisit,url):\n",
    "    \n",
    "    \n",
    "    if(len(elements) > 0):\n",
    "        random_num = random.randint(0,len(elements)-1)\n",
    "        element=elements[random_num]\n",
    "        for t in dontVisit:\n",
    "            if(element.text == t):\n",
    "                return random_num\n",
    "        #print(\"clicked: \",element.text)    \n",
    "        element.click()\n",
    "        return random_num\n",
    "    driver.get(url)\n",
    "    return -1"
   ]
  },
  {
   "cell_type": "code",
   "execution_count": 14,
   "metadata": {},
   "outputs": [],
   "source": [
    "def isThisNewModel(models, md5):\n",
    "    for model in models:\n",
    "        if(model.mdhash == md5):\n",
    "            return False\n",
    "    return True                   "
   ]
  },
  {
   "cell_type": "code",
   "execution_count": 15,
   "metadata": {},
   "outputs": [],
   "source": [
    "def generateStates(elements):\n",
    "    states = []\n",
    "    count = 0\n",
    "    for element in elements:\n",
    "        states.append(State(count, element))\n",
    "        count += 1\n",
    "    return states"
   ]
  },
  {
   "cell_type": "code",
   "execution_count": 16,
   "metadata": {},
   "outputs": [],
   "source": [
    "def printModel(m):\n",
    "    print()\n",
    "    print(\"Explored Model(s):\")\n",
    "    for model in m:\n",
    "        print()\n",
    "        print(model.url[-14:],\" \",model.mdhash,\": \", end=\"\")\n",
    "        #print(model.mdhash,\": \", end=\"\")\n",
    "        for s in model.states:\n",
    "            with np.printoptions(precision=2):\n",
    "                print(s.num,\"(\",\"%.2f\" % round(s.stateValue,5),\") \", end=\"\")\n",
    "                #print(s.num,\"(\",s.stateValue,\") \", end=\"\")"
   ]
  },
  {
   "cell_type": "code",
   "execution_count": 17,
   "metadata": {},
   "outputs": [],
   "source": [
    "def MC_button_demo(max_iteration,url,goalXpath,dontVisit,element_tag=\"button\"):\n",
    "    model = []\n",
    "    lenght = []\n",
    "    driver = webdriver.Firefox()\n",
    "    driver.get(url)\n",
    "    \n",
    "    \n",
    "    for i in range(1,max_iteration):\n",
    "        driver.get(url)\n",
    "        agent = Agent(mdFiveIt(driver.current_url))\n",
    "        while(True):\n",
    "            \n",
    "            if(check_exists_by_xpath(driver,goalXpath)):\n",
    "                break\n",
    "            else:\n",
    "                elements = driver.find_elements_by_tag_name(element_tag)\n",
    "                \n",
    "                \n",
    "                md5 = mdFiveIt(driver.current_url)\n",
    "                if(isThisNewModel(model,md5)):\n",
    "                    model.append(Model(md5,driver.current_url,generateStates(elements)))\n",
    "                    \n",
    "                selectedState = randomListClick(driver,elements,dontVisit,url)\n",
    "                if(selectedState != -1):\n",
    "                    agent.history.append(hashState(md5,selectedState))\n",
    "                    \n",
    "                #print(driver.current_url[-14:])\n",
    "        steps =1\n",
    "        agent.history.reverse()\n",
    "        for visitedValues in agent.history:\n",
    "            \n",
    "            for m in model:\n",
    "                \n",
    "                if(m.mdhash == visitedValues.hash_value):\n",
    "                    mean =  m.states[visitedValues.state_num].stateValue - steps\n",
    "                    m.states[visitedValues.state_num].stateValue = mean\n",
    "                    \n",
    "                    steps +=1\n",
    "            \n",
    "    driver.close()\n",
    "    return model"
   ]
  },
  {
   "cell_type": "code",
   "execution_count": 18,
   "metadata": {},
   "outputs": [],
   "source": [
    "def calculateStatesNewValue(model,visitedValue,oldVisitedValue,a=0.8,r=-1):\n",
    "    #value = old_state + a*(r + new_state - old_state)\n",
    "    mean = 0\n",
    "    if (oldVisitedValue.state_num == None or visitedValue.state_num == None):\n",
    "        return\n",
    "    old = 0\n",
    "    for m in model:\n",
    "        if(m.mdhash == visitedValue.hash_value):\n",
    "            new = m.states[visitedValue.state_num].stateValue\n",
    "            updateModel = m\n",
    "            \n",
    "        if(m.mdhash == oldVisitedValue.hash_value):\n",
    "            old = m.states[oldVisitedValue.state_num].stateValue\n",
    "    \n",
    "    mean = old + a*(r + new - old)\n",
    "    \n",
    "    updateModel.states[visitedValue.state_num].stateValue = mean                                                                   "
   ]
  },
  {
   "cell_type": "code",
   "execution_count": 19,
   "metadata": {},
   "outputs": [],
   "source": [
    "def TD_button_demo(max_iteration,url,goalXpath,dontVisit,element_tag=\"button\"):\n",
    "    model = []\n",
    "    lenght = []\n",
    "    driver = webdriver.Firefox()\n",
    "    driver.get(url)\n",
    "    \n",
    "    visitedValue= hashState(\"this is not page\",0)\n",
    "    for i in range(1,max_iteration):\n",
    "        driver.get(url)\n",
    "        agent = Agent(mdFiveIt(driver.current_url))\n",
    "        while(True):\n",
    "            \n",
    "            if(check_exists_by_xpath(driver,goalXpath)):\n",
    "                break\n",
    "            else:\n",
    "                elements = driver.find_elements_by_tag_name(element_tag)\n",
    "                \n",
    "                \n",
    "                md5 = mdFiveIt(driver.current_url)\n",
    "                if(isThisNewModel(model,md5)):\n",
    "                    model.append(Model(md5,driver.current_url,generateStates(elements)))\n",
    "                    \n",
    "                  \n",
    "                selectedState = randomListClick(driver,elements,dontVisit,url)\n",
    "                if(selectedState != -1):\n",
    "                    oldVisitedValue = visitedValue\n",
    "                    visitedValue = hashState(md5,selectedState)\n",
    "                    \n",
    "                    calculateStatesNewValue(model, visitedValue, oldVisitedValue,)\n",
    "                else:\n",
    "                    oldVisitedValue = visitedValue\n",
    "                    visitedValue = hashState(md5,selectedState)\n",
    "                    print(\"deb\")\n",
    "                    calculateStatesNewValue(model, visitedValue, oldVisitedValue,a=0.8,r=1)\n",
    "                    \n",
    "                    \n",
    "                \n",
    "                \n",
    "                #print(driver.current_url[-14:])\n",
    "        steps =1\n",
    "        agent.history.reverse()\n",
    "        \n",
    "            \n",
    "    driver.close()\n",
    "    return model"
   ]
  },
  {
   "cell_type": "code",
   "execution_count": 79,
   "metadata": {
    "scrolled": true
   },
   "outputs": [
    {
     "name": "stdout",
     "output_type": "stream",
     "text": [
      "deb\n"
     ]
    },
    {
     "ename": "IndexError",
     "evalue": "list index out of range",
     "output_type": "error",
     "traceback": [
      "\u001b[1;31m---------------------------------------------------------------------------\u001b[0m",
      "\u001b[1;31mIndexError\u001b[0m                                Traceback (most recent call last)",
      "\u001b[1;32m<ipython-input-79-9fc0a5a16b63>\u001b[0m in \u001b[0;36m<module>\u001b[1;34m\u001b[0m\n\u001b[0;32m      1\u001b[0m \u001b[0mdontVisit\u001b[0m \u001b[1;33m=\u001b[0m\u001b[1;33m[\u001b[0m\u001b[1;34m'download link'\u001b[0m\u001b[1;33m,\u001b[0m\u001b[1;34m'TWITTER'\u001b[0m\u001b[1;33m,\u001b[0m\u001b[1;34m'AVARA'\u001b[0m\u001b[1;33m]\u001b[0m\u001b[1;33m\u001b[0m\u001b[1;33m\u001b[0m\u001b[0m\n\u001b[1;32m----> 2\u001b[1;33m \u001b[0mmodel\u001b[0m \u001b[1;33m=\u001b[0m \u001b[0mTD_button_demo\u001b[0m\u001b[1;33m(\u001b[0m\u001b[1;36m20\u001b[0m\u001b[1;33m,\u001b[0m\u001b[1;34m\"file:///C:/Users/IAmir%20Ingher/Documents/projekti/school/ai/reinf_ai/project/html_generator/test/test1.html\"\u001b[0m\u001b[1;33m,\u001b[0m\u001b[1;34m\"//*[contains(text(),'goaaaaaaaalllll')]\"\u001b[0m\u001b[1;33m,\u001b[0m\u001b[0mdontVisit\u001b[0m\u001b[1;33m,\u001b[0m\u001b[1;34m\"a\"\u001b[0m\u001b[1;33m)\u001b[0m\u001b[1;33m\u001b[0m\u001b[1;33m\u001b[0m\u001b[0m\n\u001b[0m\u001b[0;32m      3\u001b[0m \u001b[0mprintModel\u001b[0m\u001b[1;33m(\u001b[0m\u001b[0mmodel\u001b[0m\u001b[1;33m)\u001b[0m\u001b[1;33m\u001b[0m\u001b[1;33m\u001b[0m\u001b[0m\n",
      "\u001b[1;32m<ipython-input-78-642a44a5068c>\u001b[0m in \u001b[0;36mTD_button_demo\u001b[1;34m(max_iteration, url, goalXpath, dontVisit, element_tag)\u001b[0m\n\u001b[0;32m     32\u001b[0m                     \u001b[0mvisitedValue\u001b[0m \u001b[1;33m=\u001b[0m \u001b[0mhashState\u001b[0m\u001b[1;33m(\u001b[0m\u001b[0mmd5\u001b[0m\u001b[1;33m,\u001b[0m\u001b[0mselectedState\u001b[0m\u001b[1;33m)\u001b[0m\u001b[1;33m\u001b[0m\u001b[1;33m\u001b[0m\u001b[0m\n\u001b[0;32m     33\u001b[0m                     \u001b[0mprint\u001b[0m\u001b[1;33m(\u001b[0m\u001b[1;34m\"deb\"\u001b[0m\u001b[1;33m)\u001b[0m\u001b[1;33m\u001b[0m\u001b[1;33m\u001b[0m\u001b[0m\n\u001b[1;32m---> 34\u001b[1;33m                     \u001b[0mcalculateStatesNewValue\u001b[0m\u001b[1;33m(\u001b[0m\u001b[0mmodel\u001b[0m\u001b[1;33m,\u001b[0m \u001b[0mvisitedValue\u001b[0m\u001b[1;33m,\u001b[0m \u001b[0moldVisitedValue\u001b[0m\u001b[1;33m,\u001b[0m\u001b[0ma\u001b[0m\u001b[1;33m=\u001b[0m\u001b[1;36m0.8\u001b[0m\u001b[1;33m,\u001b[0m\u001b[0mr\u001b[0m\u001b[1;33m=\u001b[0m\u001b[1;36m1\u001b[0m\u001b[1;33m)\u001b[0m\u001b[1;33m\u001b[0m\u001b[1;33m\u001b[0m\u001b[0m\n\u001b[0m\u001b[0;32m     35\u001b[0m \u001b[1;33m\u001b[0m\u001b[0m\n\u001b[0;32m     36\u001b[0m \u001b[1;33m\u001b[0m\u001b[0m\n",
      "\u001b[1;32m<ipython-input-71-dc20cf19c4cb>\u001b[0m in \u001b[0;36mcalculateStatesNewValue\u001b[1;34m(model, visitedValue, oldVisitedValue, a, r)\u001b[0m\n\u001b[0;32m      7\u001b[0m     \u001b[1;32mfor\u001b[0m \u001b[0mm\u001b[0m \u001b[1;32min\u001b[0m \u001b[0mmodel\u001b[0m\u001b[1;33m:\u001b[0m\u001b[1;33m\u001b[0m\u001b[1;33m\u001b[0m\u001b[0m\n\u001b[0;32m      8\u001b[0m         \u001b[1;32mif\u001b[0m\u001b[1;33m(\u001b[0m\u001b[0mm\u001b[0m\u001b[1;33m.\u001b[0m\u001b[0mmdhash\u001b[0m \u001b[1;33m==\u001b[0m \u001b[0mvisitedValue\u001b[0m\u001b[1;33m.\u001b[0m\u001b[0mhash_value\u001b[0m\u001b[1;33m)\u001b[0m\u001b[1;33m:\u001b[0m\u001b[1;33m\u001b[0m\u001b[1;33m\u001b[0m\u001b[0m\n\u001b[1;32m----> 9\u001b[1;33m             \u001b[0mnew\u001b[0m \u001b[1;33m=\u001b[0m \u001b[0mm\u001b[0m\u001b[1;33m.\u001b[0m\u001b[0mstates\u001b[0m\u001b[1;33m[\u001b[0m\u001b[0mvisitedValue\u001b[0m\u001b[1;33m.\u001b[0m\u001b[0mstate_num\u001b[0m\u001b[1;33m]\u001b[0m\u001b[1;33m.\u001b[0m\u001b[0mstateValue\u001b[0m\u001b[1;33m\u001b[0m\u001b[1;33m\u001b[0m\u001b[0m\n\u001b[0m\u001b[0;32m     10\u001b[0m             \u001b[0mupdateModel\u001b[0m \u001b[1;33m=\u001b[0m \u001b[0mm\u001b[0m\u001b[1;33m\u001b[0m\u001b[1;33m\u001b[0m\u001b[0m\n\u001b[0;32m     11\u001b[0m \u001b[1;33m\u001b[0m\u001b[0m\n",
      "\u001b[1;31mIndexError\u001b[0m: list index out of range"
     ]
    }
   ],
   "source": [
    "dontVisit =['download link','TWITTER','AVARA']\n",
    "model = TD_button_demo(20,\"file:///C:/Users/IAmir%20Ingher/Documents/projekti/school/ai/reinf_ai/project/html_generator/test/test1.html\",\"//*[contains(text(),'goaaaaaaaalllll')]\",dontVisit,\"a\")\n",
    "printModel(model)"
   ]
  },
  {
   "cell_type": "code",
   "execution_count": 27,
   "metadata": {},
   "outputs": [
    {
     "ename": "SyntaxError",
     "evalue": "unexpected EOF while parsing (<ipython-input-27-c0555fe2dc0b>, line 2)",
     "output_type": "error",
     "traceback": [
      "\u001b[1;36m  File \u001b[1;32m\"<ipython-input-27-c0555fe2dc0b>\"\u001b[1;36m, line \u001b[1;32m2\u001b[0m\n\u001b[1;33m    \u001b[0m\n\u001b[1;37m    ^\u001b[0m\n\u001b[1;31mSyntaxError\u001b[0m\u001b[1;31m:\u001b[0m unexpected EOF while parsing\n"
     ]
    }
   ],
   "source": [
    "def navigateToGoal(model):\n",
    "    "
   ]
  },
  {
   "cell_type": "code",
   "execution_count": 33,
   "metadata": {
    "scrolled": true
   },
   "outputs": [
    {
     "name": "stdout",
     "output_type": "stream",
     "text": [
      "clicked:  Pizzeon\n",
      "http://myy.haaga-helia.fi/~a1602639/ehot/pizzeon.html\n",
      "http://myy.haaga-helia.fi/~a1602639/ehot/\n",
      "clicked:  Login\n",
      "http://myy.haaga-helia.fi/~a1602639/ehot/\n",
      "clicked:  Hobsheim\n",
      "http://myy.haaga-helia.fi/~a1602639/ehot/hobsheim.html\n",
      "http://myy.haaga-helia.fi/~a1602639/ehot/\n",
      "clicked:  Pizzeon\n",
      "http://myy.haaga-helia.fi/~a1602639/ehot/pizzeon.html\n",
      "http://myy.haaga-helia.fi/~a1602639/ehot/\n",
      "http://myy.haaga-helia.fi/~a1602639/ehot/\n",
      "clicked:  Login\n",
      "http://myy.haaga-helia.fi/~a1602639/ehot/\n",
      "clicked:  Login\n",
      "http://myy.haaga-helia.fi/~a1602639/ehot/\n",
      "clicked:  Hobsheim\n",
      "http://myy.haaga-helia.fi/~a1602639/ehot/hobsheim.html\n",
      "http://myy.haaga-helia.fi/~a1602639/ehot/\n",
      "clicked:  Hobsheim\n",
      "http://myy.haaga-helia.fi/~a1602639/ehot/hobsheim.html\n",
      "http://myy.haaga-helia.fi/~a1602639/ehot/\n",
      "clicked:  Hobsquabble\n",
      "http://myy.haaga-helia.fi/~a1602639/ehot/hobsquabble.html\n",
      "http://myy.haaga-helia.fi/~a1602639/ehot/\n",
      "clicked:  Login\n",
      "http://myy.haaga-helia.fi/~a1602639/ehot/\n",
      "http://myy.haaga-helia.fi/~a1602639/ehot/\n",
      "clicked:  Pizzeon\n",
      "http://myy.haaga-helia.fi/~a1602639/ehot/pizzeon.html\n",
      "http://myy.haaga-helia.fi/~a1602639/ehot/\n",
      "clicked:  Hobsquabble\n",
      "http://myy.haaga-helia.fi/~a1602639/ehot/hobsquabble.html\n",
      "clicked:  Pizzeon\n",
      "http://myy.haaga-helia.fi/~a1602639/ehot/pizzeon.html\n",
      "http://myy.haaga-helia.fi/~a1602639/ehot/\n",
      "clicked:  Login\n",
      "http://myy.haaga-helia.fi/~a1602639/ehot/\n",
      "clicked:  Hobsheim\n",
      "http://myy.haaga-helia.fi/~a1602639/ehot/hobsheim.html\n",
      "http://myy.haaga-helia.fi/~a1602639/ehot/\n",
      "clicked:  Pizzeon\n",
      "http://myy.haaga-helia.fi/~a1602639/ehot/pizzeon.html\n",
      "http://myy.haaga-helia.fi/~a1602639/ehot/\n",
      "clicked:  Login\n",
      "http://myy.haaga-helia.fi/~a1602639/ehot/\n",
      "clicked:  Pizzeon\n",
      "http://myy.haaga-helia.fi/~a1602639/ehot/pizzeon.html\n",
      "http://myy.haaga-helia.fi/~a1602639/ehot/\n",
      "clicked:  Pizzeon\n",
      "http://myy.haaga-helia.fi/~a1602639/ehot/pizzeon.html\n",
      "http://myy.haaga-helia.fi/~a1602639/ehot/\n",
      "clicked:  Pizzeon\n",
      "http://myy.haaga-helia.fi/~a1602639/ehot/pizzeon.html\n",
      "http://myy.haaga-helia.fi/~a1602639/ehot/\n",
      "http://myy.haaga-helia.fi/~a1602639/ehot/\n",
      "clicked:  Login\n",
      "http://myy.haaga-helia.fi/~a1602639/ehot/\n",
      "http://myy.haaga-helia.fi/~a1602639/ehot/\n",
      "clicked:  Login\n",
      "http://myy.haaga-helia.fi/~a1602639/ehot/\n",
      "clicked:  Hobsquabble\n",
      "http://myy.haaga-helia.fi/~a1602639/ehot/hobsquabble.html\n",
      "http://myy.haaga-helia.fi/~a1602639/ehot/\n",
      "clicked:  Hobsheim\n",
      "http://myy.haaga-helia.fi/~a1602639/ehot/hobsheim.html\n",
      "http://myy.haaga-helia.fi/~a1602639/ehot/\n",
      "clicked:  Hobsheim\n",
      "http://myy.haaga-helia.fi/~a1602639/ehot/hobsheim.html\n",
      "http://myy.haaga-helia.fi/~a1602639/ehot/\n",
      "clicked:  Hobsquabble\n",
      "http://myy.haaga-helia.fi/~a1602639/ehot/hobsquabble.html\n",
      "clicked:  Pizzeon\n",
      "http://myy.haaga-helia.fi/~a1602639/ehot/pizzeon.html\n",
      "http://myy.haaga-helia.fi/~a1602639/ehot/\n",
      "clicked:  Hobsquabble\n",
      "http://myy.haaga-helia.fi/~a1602639/ehot/hobsquabble.html\n",
      "clicked:  Login\n",
      "http://myy.haaga-helia.fi/~a1602639/ehot/\n",
      "clicked:  Login\n",
      "http://myy.haaga-helia.fi/~a1602639/ehot/\n",
      "http://myy.haaga-helia.fi/~a1602639/ehot/\n",
      "clicked:  Hobsquabble\n",
      "http://myy.haaga-helia.fi/~a1602639/ehot/hobsquabble.html\n",
      "clicked:  Login\n",
      "http://myy.haaga-helia.fi/~a1602639/ehot/\n",
      "clicked:  Pizzeon\n",
      "http://myy.haaga-helia.fi/~a1602639/ehot/pizzeon.html\n",
      "http://myy.haaga-helia.fi/~a1602639/ehot/\n",
      "http://myy.haaga-helia.fi/~a1602639/ehot/\n",
      "clicked:  Login\n",
      "http://myy.haaga-helia.fi/~a1602639/ehot/\n",
      "clicked:  Hobsheim\n",
      "http://myy.haaga-helia.fi/~a1602639/ehot/hobsheim.html\n",
      "http://myy.haaga-helia.fi/~a1602639/ehot/\n",
      "clicked:  Pizzeon\n",
      "http://myy.haaga-helia.fi/~a1602639/ehot/pizzeon.html\n",
      "http://myy.haaga-helia.fi/~a1602639/ehot/\n",
      "clicked:  Hobsheim\n",
      "http://myy.haaga-helia.fi/~a1602639/ehot/hobsheim.html\n",
      "http://myy.haaga-helia.fi/~a1602639/ehot/\n",
      "clicked:  Pizzeon\n",
      "http://myy.haaga-helia.fi/~a1602639/ehot/pizzeon.html\n",
      "http://myy.haaga-helia.fi/~a1602639/ehot/\n",
      "clicked:  Login\n",
      "http://myy.haaga-helia.fi/~a1602639/ehot/\n",
      "clicked:  Hobsquabble\n",
      "http://myy.haaga-helia.fi/~a1602639/ehot/hobsquabble.html\n",
      "clicked:  Pizzeon\n",
      "http://myy.haaga-helia.fi/~a1602639/ehot/pizzeon.html\n",
      "http://myy.haaga-helia.fi/~a1602639/ehot/\n",
      "clicked:  Pizzeon\n",
      "http://myy.haaga-helia.fi/~a1602639/ehot/pizzeon.html\n",
      "http://myy.haaga-helia.fi/~a1602639/ehot/\n",
      "clicked:  Login\n",
      "http://myy.haaga-helia.fi/~a1602639/ehot/\n",
      "clicked:  Login\n",
      "http://myy.haaga-helia.fi/~a1602639/ehot/\n",
      "clicked:  Hobsquabble\n",
      "http://myy.haaga-helia.fi/~a1602639/ehot/hobsquabble.html\n",
      "http://myy.haaga-helia.fi/~a1602639/ehot/\n",
      "http://myy.haaga-helia.fi/~a1602639/ehot/\n",
      "clicked:  Login\n",
      "http://myy.haaga-helia.fi/~a1602639/ehot/\n",
      "clicked:  Hobsquabble\n",
      "http://myy.haaga-helia.fi/~a1602639/ehot/hobsquabble.html\n",
      "\n",
      "Explored Model(s):\n",
      "\n",
      "http://myy.haaga-helia.fi/~a1602639/ehot/   094f6a75dc19a4b1b6d614fb75b996e9 : 0 ( -92.00 ) 1 ( -10.00 ) 2 ( -40.00 ) 3 ( -44.00 ) 4 ( -83.00 ) \n",
      "http://myy.haaga-helia.fi/~a1602639/ehot/pizzeon.html   8da2baba6b9d2caa4507f6743ba633bf : \n",
      "http://myy.haaga-helia.fi/~a1602639/ehot/hobsheim.html   d7d583122d713bf09f8bfa30f6e57f9d : "
     ]
    }
   ],
   "source": [
    "dontVisit =['download link','TWITTER','AVARA']\n",
    "model = MC_button_demo(10,\"http://myy.haaga-helia.fi/~a1602639/ehot/\",\"//*[contains(text(),'Pink Team')]\",dontVisit,)\n",
    "printModel(model)"
   ]
  },
  {
   "cell_type": "code",
   "execution_count": 49,
   "metadata": {
    "scrolled": true
   },
   "outputs": [
    {
     "name": "stdout",
     "output_type": "stream",
     "text": [
      "\n",
      "Explored Model(s):\n",
      "\n",
      "est/test1.html   74fe24c4ee286cc6b74e7f9fbf775e1c : 0 ( -8965.00 ) 1 ( -9432.00 ) 2 ( -8973.00 ) 3 ( -6905.00 ) 4 ( -10825.00 ) \n",
      "t/test1_4.html   5108f7c9b78cb49b18c1e2a8fceed21a : 0 ( -3133.00 ) 1 ( -3260.00 ) 2 ( -199.00 ) \n",
      "4/test4_1.html   d124f40e3a0d2128be87f9687e8e5f06 : \n",
      "t/test1_5.html   4f0b076679a1a195f263a5196014d9b5 : 0 ( -5189.00 ) 1 ( -5294.00 ) \n",
      "5/test5_2.html   7a67112891f4be246be19c67bb5fed1b : 0 ( -5133.00 ) \n",
      "test5_2_1.html   4643cbd2ae15203ddf947073f4f53fdd : \n",
      "t/test1_2.html   bff445a5e66d8375b05580b9f4107b46 : 0 ( -5084.00 ) 1 ( -4034.00 ) \n",
      "2/test2_1.html   06e325830bc18c16138c9966d6dd8e5e : \n",
      "t/test1_3.html   cb2f1088ae7b95871cf144a9206fcae7 : 0 ( -8666.00 ) \n",
      "3/test3_1.html   24d6454160922381be56bb1b31fc620b : \n",
      "t/test1_1.html   f7f45e9224cec48d185d04bd2626c8bb : \n",
      "5/test5_1.html   8f15b8b4bf7f6e9b2f2ac73f85f3352a : \n",
      "2/test2_2.html   a673ea75c516acc85ecb9e217b35ed59 : \n",
      "4/test4_3.html   edbb2f8e8da05583810a9a3d8a2a7188 : 0 ( -100.00 ) \n",
      "4/test4_2.html   a117cdbed5c0b31e624694d2fba19bab : "
     ]
    }
   ],
   "source": [
    "model = MC_button_demo(100,\"file:///C:/Users/IAmir%20Ingher/Documents/projekti/school/ai/reinf_ai/project/html_generator/test/test1.html\",\"//*[contains(text(),'goaaaaaaaalllll')]\",dontVisit,\"a\")\n",
    "printModel(model)"
   ]
  },
  {
   "cell_type": "code",
   "execution_count": null,
   "metadata": {},
   "outputs": [],
   "source": []
  }
 ],
 "metadata": {
  "kernelspec": {
   "display_name": "Python 3",
   "language": "python",
   "name": "python3"
  },
  "language_info": {
   "codemirror_mode": {
    "name": "ipython",
    "version": 3
   },
   "file_extension": ".py",
   "mimetype": "text/x-python",
   "name": "python",
   "nbconvert_exporter": "python",
   "pygments_lexer": "ipython3",
   "version": "3.6.7"
  }
 },
 "nbformat": 4,
 "nbformat_minor": 2
}
